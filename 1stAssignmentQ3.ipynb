{
  "nbformat": 4,
  "nbformat_minor": 0,
  "metadata": {
    "colab": {
      "provenance": [],
      "authorship_tag": "ABX9TyNrJRtcQlf7iikPn35q1+LW",
      "include_colab_link": true
    },
    "kernelspec": {
      "name": "python3",
      "display_name": "Python 3"
    },
    "language_info": {
      "name": "python"
    }
  },
  "cells": [
    {
      "cell_type": "markdown",
      "metadata": {
        "id": "view-in-github",
        "colab_type": "text"
      },
      "source": [
        "<a href=\"https://colab.research.google.com/github/sobiamehak/1st-assignment-of-Q3/blob/main/1stAssignmentQ3.ipynb\" target=\"_parent\"><img src=\"https://colab.research.google.com/assets/colab-badge.svg\" alt=\"Open In Colab\"/></a>"
      ]
    },
    {
      "cell_type": "code",
      "execution_count": null,
      "metadata": {
        "colab": {
          "base_uri": "https://localhost:8080/"
        },
        "id": "6mVx3sbgYSRM",
        "outputId": "b92aa935-d11e-4031-d264-7a44a3ba78d9"
      },
      "outputs": [
        {
          "output_type": "stream",
          "name": "stdout",
          "text": [
            "Hello Python\n",
            " Welcome back\n",
            " Today was my first Python class. The teacher began by explaining through a presentation,Python is a programming language that… Then he went on to explain why it is used and how it works.  \n",
            "After that, he introduced us to all the data types in Python. As we moved forward, he said, Let’s look at some special string methods.We then explored methods like upper, lower, split, capitalize, and how to remove extra spaces.  \n",
            "Later, he explained the f-string method, noting, *“This makes formatting strings much easier. Finally, we learned about the input method.  \n",
            "By the end of the class, I felt really satisfied and thought to myself,Today’s class was really good.\n"
          ]
        }
      ],
      "source": [
        "# creating string using different types of quotations\n",
        "single_qoute = 'Hello Python\\n' #for short text without apostrophe,\n",
        "double_qoutes = \"Welcome back to sir Hamza's class\\n\" #for apostophes\n",
        "triple_qoutes = \"\"\"Today was my first Python class. The teacher began by explaining through a presentation,Python is a programming language that… Then he went on to explain why it is used and how it works.\n",
        "After that, he introduced us to all the data types in Python. As we moved forward, he said, Let’s look at some special string methods.We then explored methods like upper, lower, split, capitalize, and how to remove extra spaces.\n",
        "Later, he explained the f-string method, noting, *“This makes formatting strings much easier. Finally, we learned about the input method.\n",
        "By the end of the class, I felt really satisfied and thought to myself,Today’s class was really good.\"\"\"\n",
        "print(f\"{single_qoute} {double_qoutes} {triple_qoutes}\") #for multiple lines or paragraph"
      ]
    },
    {
      "cell_type": "code",
      "source": [],
      "metadata": {
        "id": "uDryBQO50eTK"
      },
      "execution_count": null,
      "outputs": []
    },
    {
      "cell_type": "code",
      "source": [
        "my_story = \"\"\"\n",
        "My father once told me,“Success isn’t just about reaching the top. It’s about lifting others\n",
        "as you climb.” Those words stayed with me, reminding me to grow, not just alone, but together.\"\"\"\n",
        "print(my_story)\n",
        "\n"
      ],
      "metadata": {
        "colab": {
          "base_uri": "https://localhost:8080/"
        },
        "id": "wHqk9hgSenVA",
        "outputId": "f4973709-d83d-4478-dbcb-23904700ec51"
      },
      "execution_count": null,
      "outputs": [
        {
          "output_type": "stream",
          "name": "stdout",
          "text": [
            "  \n",
            "My father once told me,“Success isn’t just about reaching the top. It’s about lifting others \n",
            "as you climb.” Those words stayed with me, reminding me to grow, not just alone, but together.\n"
          ]
        }
      ]
    },
    {
      "cell_type": "code",
      "source": [
        "my_bio = \"soBia meHak\"\n",
        "print(my_bio.upper()) #A,B,C\n",
        "print(my_bio.lower()) #a,b,c\n",
        "print(my_bio.title()) #The First Letter Of Every Word Has Been Capitalized."
      ],
      "metadata": {
        "colab": {
          "base_uri": "https://localhost:8080/"
        },
        "id": "qQ7dvZ5hiMQ_",
        "outputId": "0a23dbac-e1f1-4cb9-e2d1-eb825f5ef177"
      },
      "execution_count": null,
      "outputs": [
        {
          "output_type": "stream",
          "name": "stdout",
          "text": [
            "SOBIA MEHAK\n",
            "sobia mehak\n",
            "Sobia Mehak\n"
          ]
        }
      ]
    },
    {
      "cell_type": "code",
      "source": [
        "messy_text = \" Python Programming is Fun! \" #before -> fun\n",
        "print(messy_text.strip()) #Remove extra space from the start and end\n",
        "print( messy_text.replace(\"Fun\",\"Amazing\")) # after -> amazing\n",
        "print(messy_text.count(\"i\")) # check and count how many time comes \"i\""
      ],
      "metadata": {
        "colab": {
          "base_uri": "https://localhost:8080/"
        },
        "id": "sABY1q4YjZd3",
        "outputId": "ac8898c5-8842-408d-a8cf-3f6423782ca3"
      },
      "execution_count": null,
      "outputs": [
        {
          "output_type": "stream",
          "name": "stdout",
          "text": [
            "Python Programming is Fun!\n",
            " Python Programming is Amazing! \n",
            "2\n"
          ]
        }
      ]
    },
    {
      "cell_type": "code",
      "source": [
        "sentence = \"The quick brown fox jumps over the lazy dog.\"\n",
        "print(sentence.split()) # break sentence in words\n",
        "join_sentence = \"_\".join(sentence) # join _ in every single letter.\n",
        "print(join_sentence) #print output\n",
        "print(sentence.startswith(\"The\")) #check true or false\n",
        "print(sentence.find(\"fox\")) # search fox in sentence and tell position"
      ],
      "metadata": {
        "colab": {
          "base_uri": "https://localhost:8080/"
        },
        "id": "A7LEEChglZlj",
        "outputId": "ba0d4634-63d0-4553-8a3a-6248c0e938d5"
      },
      "execution_count": null,
      "outputs": [
        {
          "output_type": "stream",
          "name": "stdout",
          "text": [
            "['The', 'quick', 'brown', 'fox', 'jumps', 'over', 'the', 'lazy', 'dog.']\n",
            "T_h_e_ _q_u_i_c_k_ _b_r_o_w_n_ _f_o_x_ _j_u_m_p_s_ _o_v_e_r_ _t_h_e_ _l_a_z_y_ _d_o_g_.\n",
            "True\n",
            "16\n"
          ]
        }
      ]
    },
    {
      "cell_type": "code",
      "source": [
        "My_name = \"Sobia Mehak\" #veriable\n",
        "My_age = \"20\" #veriable\n",
        "Fav_lang = \"Python\" #veriable\n",
        "print(f\"My name is {My_name}, and I am {My_age} years old. \\n I enjoyed programming in {Fav_lang} Its's my favourite  programming language!\") #String Interpolation\n"
      ],
      "metadata": {
        "colab": {
          "base_uri": "https://localhost:8080/"
        },
        "id": "idaDTnCXrBYu",
        "outputId": "dc01d9d1-02e1-4d03-c5da-51d4f9b166f8"
      },
      "execution_count": null,
      "outputs": [
        {
          "output_type": "stream",
          "name": "stdout",
          "text": [
            "My name is Sobia Mehak. and I am 20 years old. \n",
            " I enjoyed programming in Python Its's my favourite!\n"
          ]
        }
      ]
    },
    {
      "cell_type": "code",
      "source": [
        "age = 12 #veriable\n",
        "print(f\"In 5 years , I will be {age + 5} years old.\") # string inerpolation with plus method"
      ],
      "metadata": {
        "colab": {
          "base_uri": "https://localhost:8080/"
        },
        "id": "7sqmf146tKvy",
        "outputId": "13cf9a44-4ec3-466c-c8db-7bb0edccf5b6"
      },
      "execution_count": null,
      "outputs": [
        {
          "output_type": "stream",
          "name": "stdout",
          "text": [
            "In 5 years , I will be 17 years old.\n"
          ]
        }
      ]
    },
    {
      "cell_type": "code",
      "source": [
        "from datetime import datetime\n",
        "\n",
        "#User inputs\n",
        "user_name = input(\"Enter your name : \\n\").title()\n",
        "last_name = input(\"Enter your last name : \\n\").title()\n",
        "user_birth = input(\"Enter your birth year :\\n\")\n",
        "#Calculate age\n",
        "current_year = datetime.now().year   # datetime.now() mean current date and time, .year extracts the current year\n",
        "age = current_year - int(user_birth)   # int() converts the input to an integer, subtraction gives the age user input is user_birth\n",
        "#Output of profile\n",
        "print(f\"Profile : \\n Name: {user_name} {last_name} \\n Age: {age} \\n Username: {user_name + last_name + str(age)}\")\n"
      ],
      "metadata": {
        "colab": {
          "base_uri": "https://localhost:8080/"
        },
        "id": "8zwOvPKhuEv8",
        "outputId": "d77e01ed-2ebb-4349-a407-d9983a09496e"
      },
      "execution_count": null,
      "outputs": [
        {
          "output_type": "stream",
          "name": "stdout",
          "text": [
            "Enter your name : \n",
            "sobia\n",
            "Enter your last name : \n",
            "mehak\n",
            "Enter your birth year :\n",
            "2003\n",
            "Profile : \n",
            " Name: Sobia Mehak \n",
            " Age: 22 \n",
            " Username: SobiaMehak22\n"
          ]
        }
      ]
    }
  ]
}